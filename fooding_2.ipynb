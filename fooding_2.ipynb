{
 "cells": [
  {
   "cell_type": "code",
   "execution_count": 1,
   "metadata": {},
   "outputs": [],
   "source": [
    "import os\n",
    "import folium\n",
    "import json\n",
    "from folium.features import CustomIcon"
   ]
  },
  {
   "cell_type": "code",
   "execution_count": 1,
   "metadata": {},
   "outputs": [
    {
     "ename": "NameError",
     "evalue": "name 'os' is not defined",
     "output_type": "error",
     "traceback": [
      "\u001b[0;31m---------------------------------------------------------------------------\u001b[0m",
      "\u001b[0;31mNameError\u001b[0m                                 Traceback (most recent call last)",
      "\u001b[0;32m<ipython-input-1-bcc255367140>\u001b[0m in \u001b[0;36m<module>\u001b[0;34m()\u001b[0m\n\u001b[0;32m----> 1\u001b[0;31m \u001b[0mflooding_range\u001b[0m\u001b[0;34m=\u001b[0m\u001b[0mos\u001b[0m\u001b[0;34m.\u001b[0m\u001b[0mpath\u001b[0m\u001b[0;34m.\u001b[0m\u001b[0mjoin\u001b[0m\u001b[0;34m(\u001b[0m\u001b[0;34m'data'\u001b[0m\u001b[0;34m,\u001b[0m\u001b[0;34m'foolding.png'\u001b[0m\u001b[0;34m)\u001b[0m\u001b[0;34m\u001b[0m\u001b[0m\n\u001b[0m\u001b[1;32m      2\u001b[0m \u001b[0mflooding_velocity\u001b[0m\u001b[0;34m=\u001b[0m\u001b[0mos\u001b[0m\u001b[0;34m.\u001b[0m\u001b[0mpath\u001b[0m\u001b[0;34m.\u001b[0m\u001b[0mjoin\u001b[0m\u001b[0;34m(\u001b[0m\u001b[0;34m'data'\u001b[0m\u001b[0;34m,\u001b[0m\u001b[0;34m'foolding_vel.png'\u001b[0m\u001b[0;34m)\u001b[0m\u001b[0;34m\u001b[0m\u001b[0m\n\u001b[1;32m      3\u001b[0m \u001b[0;34m\u001b[0m\u001b[0m\n\u001b[1;32m      4\u001b[0m \u001b[0mfld_bar\u001b[0m\u001b[0;34m=\u001b[0m\u001b[0mos\u001b[0m\u001b[0;34m.\u001b[0m\u001b[0mpath\u001b[0m\u001b[0;34m.\u001b[0m\u001b[0mjoin\u001b[0m\u001b[0;34m(\u001b[0m\u001b[0;34m'data'\u001b[0m\u001b[0;34m,\u001b[0m\u001b[0;34m'fld_colorbar.png'\u001b[0m\u001b[0;34m)\u001b[0m\u001b[0;34m\u001b[0m\u001b[0m\n\u001b[1;32m      5\u001b[0m \u001b[0mvel_bar\u001b[0m\u001b[0;34m=\u001b[0m\u001b[0mos\u001b[0m\u001b[0;34m.\u001b[0m\u001b[0mpath\u001b[0m\u001b[0;34m.\u001b[0m\u001b[0mjoin\u001b[0m\u001b[0;34m(\u001b[0m\u001b[0;34m'data'\u001b[0m\u001b[0;34m,\u001b[0m\u001b[0;34m'vel_colorbar.png'\u001b[0m\u001b[0;34m)\u001b[0m\u001b[0;34m\u001b[0m\u001b[0m\n",
      "\u001b[0;31mNameError\u001b[0m: name 'os' is not defined"
     ]
    }
   ],
   "source": [
    "flooding_range=os.path.join('data','foolding.png')\n",
    "flooding_velocity=os.path.join('data','foolding_vel.png')\n",
    "\n",
    "fld_bar=os.path.join('data','fld_colorbar.png')\n",
    "vel_bar=os.path.join('data','vel_colorbar.png')\n",
    "\n",
    "m=folium.Map([25.8,-80.15],zoom_start=8,control_scale=True)\n",
    "img1=folium.raster_layers.ImageOverlay(\n",
    "    name='flooding range',\n",
    "    image=flooding_range,\n",
    "    bounds=[[25.2499537,-80.33],[26.3199537,-80.07]],\n",
    "    opacity=0.7,\n",
    "    interactive=True,\n",
    "    cross_origin=False,\n",
    "    zindex=1,\n",
    ")\n",
    "img1.add_to(m)\n",
    "\n",
    "img2=folium.raster_layers.ImageOverlay(\n",
    "    name='flooding velocity',\n",
    "    image=flooding_velocity,\n",
    "    bounds=[[25.2499537,-80.33],[26.3199537,-80.07]],\n",
    "    opacity=0.7,\n",
    "    interactive=True,\n",
    "    cross_origin=False,\n",
    "    zindex=1,\n",
    ")\n",
    "img2.add_to(m)\n",
    "\n",
    "fld_icon=CustomIcon(\n",
    "    fld_bar,\n",
    "    icon_size=(80,250),\n",
    "    icon_anchor=(40,125)\n",
    ")\n",
    "fld_marker=folium.Marker(\n",
    "    location=[25.9,-80],\n",
    "    icon=fld_icon\n",
    ")\n",
    "m.add_child(fld_marker)\n",
    "\n",
    "vel_icon=CustomIcon(\n",
    "    vel_bar,\n",
    "    icon_size=(80,250),\n",
    "    icon_anchor=(40,125)\n",
    ")\n",
    "vel_marker=folium.Marker(\n",
    "    location=[25.9,-79.5],\n",
    "    icon=vel_icon\n",
    ")\n",
    "m.add_child(vel_marker)\n",
    "\n",
    "folium.LayerControl().add_to(m)\n",
    "\n",
    "m.save(os.path.join('maps', 'FL_flooding.html'))\n",
    "m"
   ]
  },
  {
   "cell_type": "code",
   "execution_count": null,
   "metadata": {},
   "outputs": [],
   "source": []
  },
  {
   "cell_type": "code",
   "execution_count": null,
   "metadata": {},
   "outputs": [],
   "source": []
  },
  {
   "cell_type": "code",
   "execution_count": null,
   "metadata": {},
   "outputs": [],
   "source": []
  }
 ],
 "metadata": {
  "kernelspec": {
   "display_name": "Python 3",
   "language": "python",
   "name": "python3"
  },
  "language_info": {
   "codemirror_mode": {
    "name": "ipython",
    "version": 3
   },
   "file_extension": ".py",
   "mimetype": "text/x-python",
   "name": "python",
   "nbconvert_exporter": "python",
   "pygments_lexer": "ipython3",
   "version": "3.6.1"
  }
 },
 "nbformat": 4,
 "nbformat_minor": 2
}
