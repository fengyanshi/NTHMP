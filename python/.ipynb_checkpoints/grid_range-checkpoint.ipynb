{
 "cells": [
  {
   "cell_type": "code",
   "execution_count": null,
   "metadata": {},
   "outputs": [],
   "source": []
  },
  {
   "cell_type": "code",
   "execution_count": 1,
   "metadata": {},
   "outputs": [],
   "source": [
    "import os\n",
    "import folium\n",
    "import json\n",
    "from folium.features import CustomIcon\n",
    "from folium.plugins import MousePosition"
   ]
  },
  {
   "cell_type": "code",
   "execution_count": 6,
   "metadata": {},
   "outputs": [
    {
     "data": {
      "text/html": [
       "<div style=\"width:100%;\"><div style=\"position:relative;width:100%;height:0;padding-bottom:60%;\"><iframe src=\"data:text/html;charset=utf-8;base64,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\" style=\"position:absolute;width:100%;height:100%;left:0;top:0;border:none !important;\" allowfullscreen webkitallowfullscreen mozallowfullscreen></iframe></div></div>"
      ],
      "text/plain": [
       "<folium.folium.Map at 0x1173d95f8>"
      ]
     },
     "execution_count": 6,
     "metadata": {},
     "output_type": "execute_result"
    }
   ],
   "source": [
    "m=folium.Map([26.02,-80.1328],zoom_start=4,tiles='Stamen Terrain',control_scale=True,)\n",
    "\n",
    "kw1 = {\n",
    "    'color': '#c94964',\n",
    "    'line_cap': 'round',\n",
    "    'fill': True,\n",
    "   'fill_color': 'none',\n",
    "    'weight': 1.5,\n",
    "#    'popup': 'Flooding Simulation area',\n",
    "}\n",
    "\n",
    "kw2 = {\n",
    "    'color': '#00ce39',\n",
    "    'line_cap': 'round',\n",
    "    'fill': True,\n",
    "   'fill_color': 'none',\n",
    "    'weight': 2.5,\n",
    "#    'popup': 'Flooding Simulation area',\n",
    "}\n",
    "\n",
    "kw3 = {\n",
    "    'color': '#fbd004',\n",
    "    'line_cap': 'round',\n",
    "    'fill': True,\n",
    "   'fill_color': 'none',\n",
    "    'weight': 2.5,\n",
    "#    'popup': 'Flooding Simulation area',\n",
    "}\n",
    "\n",
    "kw4 = {\n",
    "    'color': '#b163a3',\n",
    "    'line_cap': 'round',\n",
    "    'fill': True,\n",
    "   'fill_color': 'none',\n",
    "    'weight': 2.5,\n",
    "#    'popup': 'Flooding Simulation area',\n",
    "}\n",
    "\n",
    "folium.Rectangle(\n",
    "    bounds=[[24.00,-80.75], [28.2752,-78.734]],\n",
    "    line_join='round',\n",
    "    dash_array='10, 0',\n",
    "    **kw4,\n",
    ").add_to(m)\n",
    "\n",
    "folium.Rectangle(\n",
    "    bounds=[[19.0,-82.0], [38.0,-69.0]],\n",
    "    line_join='round',\n",
    "    dash_array='10, 0',\n",
    "    **kw3,\n",
    ").add_to(m)\n",
    "\n",
    "folium.Rectangle(\n",
    "    bounds=[[23.0,-80.75], [28.2752,-78.734]],\n",
    "    line_join='round',\n",
    "    dash_array='10, 0',\n",
    "    **kw2,\n",
    ").add_to(m)\n",
    "\n",
    "folium.Rectangle(\n",
    "    bounds=[[25.2499537,-80.4100463], [26.3199537,-80.0241186]],\n",
    "    line_join='round',\n",
    "    dash_array='10, 0',\n",
    "    **kw1,\n",
    ").add_to(m)\n",
    "\n",
    "folium.CircleMarker(\n",
    "    location=[24.673258, -79.255717],\n",
    "    radius=3,\n",
    ").add_to(m)\n",
    "\n",
    "folium.CircleMarker(\n",
    "    location=[33.14, -76.29],\n",
    "    radius=3,\n",
    ").add_to(m)\n",
    "\n",
    "formatter = \"function(num) {return L.Util.formatNum(num, 5) + ' º ';};\"\n",
    "MousePosition(\n",
    "    position='topright',\n",
    "    separator=' ,  ',\n",
    "    empty_string='NaN',\n",
    "    lng_first=True,\n",
    "    num_digits=20,\n",
    "    prefix='Coordinates:',\n",
    "    lat_formatter=formatter,\n",
    "    lng_formatter=formatter\n",
    ").add_to(m)\n",
    "\n",
    "\n",
    "m.save(os.path.join('../maps', 'grid_range.html'))\n",
    "m"
   ]
  },
  {
   "cell_type": "code",
   "execution_count": null,
   "metadata": {},
   "outputs": [],
   "source": []
  },
  {
   "cell_type": "code",
   "execution_count": null,
   "metadata": {},
   "outputs": [],
   "source": []
  }
 ],
 "metadata": {
  "kernelspec": {
   "display_name": "Python 3",
   "language": "python",
   "name": "python3"
  },
  "language_info": {
   "codemirror_mode": {
    "name": "ipython",
    "version": 3
   },
   "file_extension": ".py",
   "mimetype": "text/x-python",
   "name": "python",
   "nbconvert_exporter": "python",
   "pygments_lexer": "ipython3",
   "version": "3.7.2"
  }
 },
 "nbformat": 4,
 "nbformat_minor": 2
}
